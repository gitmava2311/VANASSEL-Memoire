{
 "cells": [
  {
   "cell_type": "code",
   "execution_count": 1,
   "id": "25f382fa-0d9e-4ab7-bd13-0be592f3e124",
   "metadata": {},
   "outputs": [],
   "source": [
    "from SPARQLWrapper import SPARQLWrapper, JSON"
   ]
  },
  {
   "cell_type": "markdown",
   "id": "d76e1ba0-8ef6-4ec5-a63e-94cf6311b87e",
   "metadata": {
    "tags": []
   },
   "source": [
    "## Creer de la liste des universités dans les trois langues + pays à partir de wikidata"
   ]
  },
  {
   "cell_type": "code",
   "execution_count": 2,
   "id": "4bdd4670-3ac6-47f2-991b-bd49969835b5",
   "metadata": {},
   "outputs": [
    {
     "name": "stdout",
     "output_type": "stream",
     "text": [
      "\n",
      "13169 universities found\n",
      "\n",
      "[{'university': {'type': 'uri', 'value': 'http://www.wikidata.org/entity/Q372608'}, 'label_en': {'xml:lang': 'en', 'type': 'literal', 'value': 'University of Basel'}, 'label_nl': {'xml:lang': 'nl', 'type': 'literal', 'value': 'Universiteit van Bazel'}, 'label_fr': {'xml:lang': 'fr', 'type': 'literal', 'value': 'Université de Bâle'}, 'country': {'type': 'uri', 'value': 'http://www.wikidata.org/entity/Q39'}, 'countryLabel': {'xml:lang': 'en', 'type': 'literal', 'value': 'Switzerland'}}, {'university': {'type': 'uri', 'value': 'http://www.wikidata.org/entity/Q217439'}, 'label_en': {'xml:lang': 'en', 'type': 'literal', 'value': 'University of Hawaiʻi'}, 'label_nl': {'xml:lang': 'nl', 'type': 'literal', 'value': 'University of Hawaii'}, 'label_fr': {'xml:lang': 'fr', 'type': 'literal', 'value': \"université d'Hawaï\"}, 'country': {'type': 'uri', 'value': 'http://www.wikidata.org/entity/Q30'}, 'countryLabel': {'xml:lang': 'en', 'type': 'literal', 'value': 'United States of America'}}, {'university': {'type': 'uri', 'value': 'http://www.wikidata.org/entity/Q218506'}, 'label_en': {'xml:lang': 'en', 'type': 'literal', 'value': 'Lund University'}, 'label_nl': {'xml:lang': 'nl', 'type': 'literal', 'value': 'Universiteit van Lund'}, 'label_fr': {'xml:lang': 'fr', 'type': 'literal', 'value': 'université de Lund'}, 'country': {'type': 'uri', 'value': 'http://www.wikidata.org/entity/Q34'}, 'countryLabel': {'xml:lang': 'en', 'type': 'literal', 'value': 'Sweden'}}]\n"
     ]
    }
   ],
   "source": [
    "# Retrieve results from SPARQL\n",
    "endpoint = \"https://query.wikidata.org/bigdata/namespace/wdq/sparql\"\n",
    "sparql = SPARQLWrapper(endpoint)\n",
    "\n",
    "# P27 = country of citizenship \n",
    "# Q31 = Belgium\n",
    "# P106 = Opccupation\n",
    "# Q82955 = Politician\n",
    "# P569 = date of birth\n",
    "# P570 = date of death\n",
    "statement = \"\"\"\n",
    "select ?university ?label_fr ?label_nl ?label_en ?country ?countryLabel where {\n",
    "  ?university wdt:P31 wd:Q3918 .\n",
    "  ?university wdt:P17 ?country\n",
    "  OPTIONAL{?university rdfs:label ?label_fr FILTER(lang(?label_fr)=\"fr\")}\n",
    "  OPTIONAL{?university rdfs:label ?label_nl FILTER(lang(?label_nl)=\"nl\")}\n",
    "  OPTIONAL{?university rdfs:label ?label_en FILTER(lang(?label_en)=\"en\")}\n",
    "  SERVICE wikibase:label {\n",
    "    bd:serviceParam wikibase:language \"en\" .\n",
    "  }\n",
    "}\"\"\"\n",
    "\n",
    "sparql.setQuery(statement)\n",
    "sparql.setReturnFormat(JSON)\n",
    "results = sparql.query().convert()\n",
    "\n",
    "rows = results['results']['bindings']\n",
    "print(f\"\\n{len(rows)} universities found\\n\")\n",
    "print(rows[:3])"
   ]
  },
  {
   "cell_type": "code",
   "execution_count": 3,
   "id": "192d6254-b784-43ad-a47e-924b96e7f33c",
   "metadata": {},
   "outputs": [
    {
     "name": "stdout",
     "output_type": "stream",
     "text": [
      "['University of Basel;University of Basel;Université de Bâle;Universiteit van Bazel;\\n', \"University of Hawaiʻi;University of Hawaiʻi;université d'Hawaï;University of Hawaii;\\n\", 'Lund University;Lund University;université de Lund;Universiteit van Lund;\\n']\n"
     ]
    }
   ],
   "source": [
    "ls=[]\n",
    "\n",
    "for row in rows:\n",
    "    try:\n",
    "        label = row['label_en']['value']\n",
    "    except ValueError: \n",
    "        label = \"????\"\n",
    "    except KeyError: \n",
    "        label = \"????\"\n",
    "    try:\n",
    "        label_en = row['label_en']['value']\n",
    "    except ValueError: \n",
    "        label_en = \"????\"\n",
    "    except KeyError: \n",
    "        label_en = \"????\"\n",
    "    try:\n",
    "        label_fr = row['label_fr']['value']\n",
    "    except ValueError: \n",
    "        label_fr = \"????\"\n",
    "    except KeyError: \n",
    "        label_fr = \"????\"\n",
    "    try:\n",
    "        label_nl = row['label_nl']['value']\n",
    "    except ValueError: \n",
    "        label_fr = \"????\"\n",
    "    except KeyError: \n",
    "        label_fr = \"????\"\n",
    "    try:\n",
    "        ls.append(label + \";\" + label_en + \";\" + label_fr + \";\" + label_nl + \";\" + \"\\n\")\n",
    "    except KeyError:\n",
    "        ls.append(\"erreur université\" + label + \"\\n\")\n",
    "\n",
    "for row in rows:\n",
    "    try:\n",
    "        label = row['label_fr']['value']\n",
    "    except ValueError: \n",
    "        label = \"????\"\n",
    "    except KeyError: \n",
    "        label = \"????\"\n",
    "    try:\n",
    "        label_en = row['label_en']['value']\n",
    "    except ValueError: \n",
    "        label_en = \"????\"\n",
    "    except KeyError: \n",
    "        label_en = \"????\"\n",
    "    try:\n",
    "        label_fr = row['label_fr']['value']\n",
    "    except ValueError: \n",
    "        label_fr = \"????\"\n",
    "    except KeyError: \n",
    "        label_fr = \"????\"\n",
    "    try:\n",
    "        label_nl = row['label_nl']['value']\n",
    "    except ValueError: \n",
    "        label_fr = \"????\"\n",
    "    except KeyError: \n",
    "        label_fr = \"????\"\n",
    "    try:\n",
    "        ls.append(label + \";\" + label_en + \";\" + label_fr + \";\" + label_nl + \";\" + \"\\n\")\n",
    "    except KeyError:\n",
    "        ls.append(\"erreur université\" + label + \"\\n\")\n",
    "\n",
    "for row in rows:\n",
    "    try:\n",
    "        label = row['label_nl']['value']\n",
    "    except ValueError: \n",
    "        label = \"????\"\n",
    "    except KeyError: \n",
    "        label = \"????\"\n",
    "    try:\n",
    "        label_en = row['label_en']['value']\n",
    "    except ValueError: \n",
    "        label_en = \"????\"\n",
    "    except KeyError: \n",
    "        label_en = \"????\"\n",
    "    try:\n",
    "        label_fr = row['label_fr']['value']\n",
    "    except ValueError: \n",
    "        label_fr = \"????\"\n",
    "    except KeyError: \n",
    "        label_fr = \"????\"\n",
    "    try:\n",
    "        label_nl = row['label_nl']['value']\n",
    "    except ValueError: \n",
    "        label_fr = \"????\"\n",
    "    except KeyError: \n",
    "        label_fr = \"????\"\n",
    "    try:\n",
    "        ls.append(label + \";\" + label_en + \";\" + label_fr + \";\" + label_nl + \";\" + \"\\n\")\n",
    "    except KeyError:\n",
    "        ls.append(\"erreur université\" + label + \"\\n\")\n",
    "\n",
    "print(ls[:3])\n",
    "with open(\"data/universites.txt\", \"w\") as file:\n",
    "    for line in ls:\n",
    "        file.write(line)\n",
    "file.close()"
   ]
  },
  {
   "cell_type": "code",
   "execution_count": null,
   "id": "356b2dd3-ad2f-49a8-aaeb-3684a43e4a17",
   "metadata": {},
   "outputs": [],
   "source": []
  }
 ],
 "metadata": {
  "kernelspec": {
   "display_name": "Python 3 (ipykernel)",
   "language": "python",
   "name": "python3"
  },
  "language_info": {
   "codemirror_mode": {
    "name": "ipython",
    "version": 3
   },
   "file_extension": ".py",
   "mimetype": "text/x-python",
   "name": "python",
   "nbconvert_exporter": "python",
   "pygments_lexer": "ipython3",
   "version": "3.9.10"
  }
 },
 "nbformat": 4,
 "nbformat_minor": 5
}
